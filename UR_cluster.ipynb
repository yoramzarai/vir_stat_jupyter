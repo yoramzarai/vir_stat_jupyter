{
 "cells": [
  {
   "cell_type": "markdown",
   "metadata": {},
   "source": [
    "UR Clustering - scratch pad"
   ]
  },
  {
   "cell_type": "code",
   "execution_count": 3,
   "metadata": {},
   "outputs": [
    {
     "name": "stdout",
     "output_type": "stream",
     "text": [
      "['AAAAA', 'AGCCA', 'TTTCA', 'AGCTA', 'GGCTA', 'AGGCC', 'AGCTC', 'GGCTC', 'AATTC', 'TTTTC', 'ACCGG', 'GCTGG', 'GGCTG', 'ACGTG', 'AATTG', 'AAAAT', 'AGCCT', 'AAGCT', 'CAGCT', 'GAGCT', 'AGGCT', 'TGGCT', 'AAATT', 'CAATT', 'AGCTT', 'GGCTT', 'ATTTT', 'TTTTT']\n"
     ]
    }
   ],
   "source": [
    "%reset -f\n",
    "\n",
    "from Bio import SeqIO\n",
    "from Bio.Cluster import kcluster\n",
    "\n",
    "\n",
    "file = 'ur.fasta'\n",
    "ur = [record.id for record in SeqIO.parse(file, 'fasta')]\n",
    "print(ur)\n",
    "\n",
    "# clustering\n"
   ]
  },
  {
   "cell_type": "code",
   "execution_count": 8,
   "metadata": {},
   "outputs": [
    {
     "data": {
      "text/latex": [
       "\n",
       "<script type=\"text/x-mathjax-config\">\n",
       "MathJax.Hub.Config({\n",
       "  TeX: { equationNumbers: { autoNumber: \"AMS\" } }\n",
       "});\n",
       "</script>\n",
       "\n",
       "This is a latex cell. You can define $\\lambda_i$, for all $i\\in\\{0,\\dots,n\\}$ and\n",
       "\\[\n",
       "a = \\frac{m}{k}.    \n",
       "\\]\n",
       "and\n",
       "\\begin{equation}\n",
       "\\dot{x} = q_{i-1}(x) - q_i(x), \\quad \\text{for all } i=1,\\dots,n.\n",
       "\\label{eq:sample}\n",
       "\\end{equation}\n"
      ],
      "text/plain": [
       "<IPython.core.display.Latex object>"
      ]
     },
     "metadata": {},
     "output_type": "display_data"
    }
   ],
   "source": [
    "%%latex\n",
    "\n",
    "This is a latex cell. You can define $\\lambda_i$, for all $i\\in\\{0,\\dots,n\\}$ and\n",
    "\\[\n",
    "a = \\frac{m}{k}.    \n",
    "\\]\n",
    "and\n",
    "\\begin{equation}\n",
    "\\dot{x} = q_{i-1}(x) - q_i(x), \\quad \\text{for all } i=1,\\dots,n.\n",
    "\\label{eq:sample}\n",
    "\\end{equation}"
   ]
  }
 ],
 "metadata": {
  "kernelspec": {
   "display_name": "Python 3",
   "language": "python",
   "name": "python3"
  },
  "language_info": {
   "codemirror_mode": {
    "name": "ipython",
    "version": 3
   },
   "file_extension": ".py",
   "mimetype": "text/x-python",
   "name": "python",
   "nbconvert_exporter": "python",
   "pygments_lexer": "ipython3",
   "version": "3.7.1"
  }
 },
 "nbformat": 4,
 "nbformat_minor": 2
}
