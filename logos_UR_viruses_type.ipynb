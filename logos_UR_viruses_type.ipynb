{
 "cells": [
  {
   "cell_type": "markdown",
   "metadata": {},
   "source": [
    "# Logos of Most Frequenet URs of Virus Types"
   ]
  },
  {
   "cell_type": "markdown",
   "metadata": {},
   "source": [
    "## Functions "
   ]
  },
  {
   "cell_type": "code",
   "execution_count": 1,
   "metadata": {
    "slideshow": {
     "slide_type": "-"
    }
   },
   "outputs": [],
   "source": [
    "import pandas as pd\n",
    "\n",
    "def get_top_URs_from_UR_rnd(xlsx_file, top_num, dtype_rnd = {'signf_sorted':str, 'tot_num_Fall_sort':int}):\n",
    "    '''Returns the top top_num URs and their frequency from a UR_rnd_m<val>_<type>.xlsx file'''\n",
    "    df_rnd = pd.read_excel(xlsx_file, header=0, dtype=dtype_rnd)\n",
    "    columns_names = list(df_rnd.columns)\n",
    "    #print('Found {} columns:'.format(len(columns_names)))\n",
    "    return {df_rnd.loc[s][columns_names[0]] : df_rnd.loc[s][columns_names[1]] for s in range(top_num)}\n",
    "\n"
   ]
  },
  {
   "cell_type": "code",
   "execution_count": 2,
   "metadata": {
    "slideshow": {
     "slide_type": "-"
    }
   },
   "outputs": [
    {
     "name": "stderr",
     "output_type": "stream",
     "text": [
      "/Users/yoramzarai/work/school/Simulation/Viruses/jupyter/myseq_logo.py:102: RuntimeWarning: divide by zero encountered in log2\n",
      "  return [Hg+sum([pwm[b][l]*np.nan_to_num(np.log2(pwm[b][l])) for b in bases])\\\n"
     ]
    },
    {
     "name": "stdout",
     "output_type": "stream",
     "text": [
      "TCGA is True palindrome\n",
      "GGCC is True palindrome\n",
      "CCGG is True palindrome\n",
      "AATT is True palindrome\n",
      "GATC is True palindrome\n",
      "CGCG is True palindrome\n",
      "Palindromes are: TCGA GGCC CCGG AATT GATC CGCG\n"
     ]
    }
   ],
   "source": [
    "import myseq_logo as mysl\n",
    "import pald_funcs as mypal # my palindrome functions\n",
    "import os\n",
    "import numpy as np\n",
    "from Bio import motifs, SeqIO\n",
    "from Bio.Seq import Seq\n",
    "import re\n",
    "from collections import deque\n",
    "from termcolor import colored\n",
    "from pprint import pprint\n",
    "import matplotlib.pyplot as plt\n",
    "\n",
    "vtypes = {\n",
    "    #'ssRNA' : 527,\n",
    "    #'ssDNA' : 309,\n",
    "    #'dsRNA' : 69,\n",
    "    'dsDNA' : 1656\n",
    "}\n",
    "mlens = [3, 4, 5]\n",
    "most_freq_num = 10\n",
    "backg = {'A':0.25,'C':0.25,'G':0.25,'T':0.25}  # background for PSSM \n",
    "save_fig_file = '' #'v_URs_dsDNA_diff.png'\n",
    "# ===========================================================================================\n",
    "#print('Virus types:')\n",
    "#for k, v in vtypes.items(): print(k, v, sep=': ')\n",
    "base_file = '/Users/yoramzarai/work/school/Simulation/Viruses/Data_stats/UR_rnd_m'\n",
    "\n",
    "fig, axs = plt.subplots(len(vtypes.keys()), len(mlens), figsize=(14,3), squeeze=False)\n",
    "for i, vtype in enumerate(vtypes.keys()):\n",
    "    for j, mlen in enumerate(mlens):\n",
    "        xlsx_file = base_file + str(mlen) + '_' + vtype + '.xlsx'\n",
    "        top_UR = get_top_URs_from_UR_rnd(xlsx_file, most_freq_num)\n",
    "        eql_nt = {s for s in top_UR.keys() if len(set(s))==1}\n",
    "        diff_nt = set(top_UR.keys()) - eql_nt\n",
    "        gc_nt = {s for s in top_UR.keys() if re.search('[CG]{'+str(mlen)+'}',s)}\n",
    "        at_nt = {s for s in top_UR.keys() if re.search('[AT]{'+str(mlen)+'}',s)}\n",
    "        \n",
    "        # CHOOSE here what is proc_nt (the URs to show logos)\n",
    "        proc_nt = diff_nt\n",
    "        #proc_nt = gc_nt\n",
    "        #proc_nt = at_nt\n",
    "        # generate sequence logo\n",
    "        pfm, pwm, pssm, m, cons = mysl.compute_pssm(proc_nt, backg, backg)\n",
    "        rel_info = mysl.calc_rel_info(m, 'no')\n",
    "        maxy = mysl.gen_nt_sequence_logo(axs[i,j], rel_info)\n",
    "        axs[i,j].set_title('m'+str(mlen)+' : '+vtype+' ('+str(len(proc_nt))+' cURs)', \\\n",
    "                          fontsize=22, color='blue')\n",
    "        axs[i,j].set_ylabel('Bits')\n",
    "        axs[i,j].set_xlabel('NT index')\n",
    "        axs[i,j].axis([0.5, mlen+0.5, 0, maxy])\n",
    "        axs[i,j].set_xticks(range(1, mlen+1))\n",
    "        \n",
    "        if mlen==4:\n",
    "            ispald = mypal.is_palindromic(list(proc_nt))\n",
    "            for seq, ispal in zip(proc_nt, ispald): print('{} is {} palindrome'.format(seq, ispal))\n",
    "            pald_seq = [list(proc_nt)[i] for i in range(len(proc_nt)) if ispald[i]]\n",
    "            print('Palindromes are: {}'.format(' '.join(pald_seq)))\n",
    "        \n",
    "plt.tight_layout()\n",
    "if save_fig_file!='': \n",
    "    plt.savefig(save_fig_file, dpi=200)\n",
    "    path = !pwd  # shell command\n",
    "    print('Figure saved in {}/{}'.format(path[0], save_fig_file))\n"
   ]
  }
 ],
 "metadata": {
  "kernelspec": {
   "display_name": "Python 3",
   "language": "python",
   "name": "python3"
  },
  "language_info": {
   "codemirror_mode": {
    "name": "ipython",
    "version": 3
   },
   "file_extension": ".py",
   "mimetype": "text/x-python",
   "name": "python",
   "nbconvert_exporter": "python",
   "pygments_lexer": "ipython3",
   "version": "3.7.1"
  }
 },
 "nbformat": 4,
 "nbformat_minor": 2
}
