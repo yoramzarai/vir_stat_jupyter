{
 "cells": [
  {
   "cell_type": "markdown",
   "metadata": {},
   "source": [
    "# Reading Matlab's mat file"
   ]
  },
  {
   "cell_type": "code",
   "execution_count": 1,
   "metadata": {},
   "outputs": [
    {
     "ename": "NameError",
     "evalue": "name 'mlen' is not defined",
     "output_type": "error",
     "traceback": [
      "\u001b[0;31m---------------------------------------------------------------------------\u001b[0m",
      "\u001b[0;31mNameError\u001b[0m                                 Traceback (most recent call last)",
      "\u001b[0;32m<ipython-input-1-1425f719c991>\u001b[0m in \u001b[0;36m<module>\u001b[0;34m\u001b[0m\n\u001b[1;32m      3\u001b[0m \u001b[0;34m\u001b[0m\u001b[0m\n\u001b[1;32m      4\u001b[0m \u001b[0mUR_mat_file\u001b[0m \u001b[0;34m=\u001b[0m \u001b[0;34m'/Users/yoramzarai/work/school/Simulation/Viruses/Data_stats/top_UR_m'\u001b[0m\u001b[0;31m\\\u001b[0m\u001b[0;34m\u001b[0m\u001b[0;34m\u001b[0m\u001b[0m\n\u001b[0;32m----> 5\u001b[0;31m \u001b[0;34m+\u001b[0m\u001b[0mstr\u001b[0m\u001b[0;34m(\u001b[0m\u001b[0mmlen\u001b[0m\u001b[0;34m)\u001b[0m\u001b[0;34m+\u001b[0m\u001b[0;34m'.mat'\u001b[0m\u001b[0;34m\u001b[0m\u001b[0;34m\u001b[0m\u001b[0m\n\u001b[0m\u001b[1;32m      6\u001b[0m \u001b[0;34m\u001b[0m\u001b[0m\n\u001b[1;32m      7\u001b[0m \u001b[0;31m# Apperantly, Matlab tables are currently not supported by scipy.io\u001b[0m\u001b[0;34m\u001b[0m\u001b[0;34m\u001b[0m\u001b[0;34m\u001b[0m\u001b[0m\n",
      "\u001b[0;31mNameError\u001b[0m: name 'mlen' is not defined"
     ]
    }
   ],
   "source": [
    "import scipy.io as sio  # for reading .mat files\n",
    "from pprint import pprint\n",
    "\n",
    "mlen = 3\n",
    "# ===========================================================================================\n",
    "UR_mat_file = '/Users/yoramzarai/work/school/Simulation/Viruses/Data_stats/top_UR_m'\\\n",
    "+str(mlen)+'.mat'\n",
    "\n",
    "# Apperantly, Matlab tables are currently not supported by scipy.io\n",
    "mat_contents = sio.loadmat(UR_mat_file)\n",
    "\n",
    "print('mat file contents (as dictionary)\\n{}:'.format(mat_contents.keys()))\n",
    "print(mat_contents['vtaxid'])\n",
    "vtaxid = mat_contents['vtaxid']\n",
    "print('first few vtaxids = {}'.format(vtaxid[0:4].tolist()))"
   ]
  }
 ],
 "metadata": {
  "kernelspec": {
   "display_name": "Python 3",
   "language": "python",
   "name": "python3"
  },
  "language_info": {
   "codemirror_mode": {
    "name": "ipython",
    "version": 3
   },
   "file_extension": ".py",
   "mimetype": "text/x-python",
   "name": "python",
   "nbconvert_exporter": "python",
   "pygments_lexer": "ipython3",
   "version": "3.7.1"
  }
 },
 "nbformat": 4,
 "nbformat_minor": 2
}
