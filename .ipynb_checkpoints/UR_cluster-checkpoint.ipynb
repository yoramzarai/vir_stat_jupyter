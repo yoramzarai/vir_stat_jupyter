{
 "cells": [
  {
   "cell_type": "markdown",
   "metadata": {},
   "source": [
    "UR Clustering - scratch pad"
   ]
  },
  {
   "cell_type": "code",
   "execution_count": 2,
   "metadata": {},
   "outputs": [
    {
     "name": "stdin",
     "output_type": "stream",
     "text": [
      "Once deleted, variables cannot be recovered. Proceed (y/[n])?  y\n"
     ]
    },
    {
     "name": "stdout",
     "output_type": "stream",
     "text": [
      "['AAAAA', 'AGCCA', 'TTTCA', 'AGCTA', 'GGCTA', 'AGGCC', 'AGCTC', 'GGCTC', 'AATTC', 'TTTTC', 'ACCGG', 'GCTGG', 'GGCTG', 'ACGTG', 'AATTG', 'AAAAT', 'AGCCT', 'AAGCT', 'CAGCT', 'GAGCT', 'AGGCT', 'TGGCT', 'AAATT', 'CAATT', 'AGCTT', 'GGCTT', 'ATTTT', 'TTTTT']\n"
     ]
    }
   ],
   "source": [
    "%reset\n",
    "\n",
    "from Bio import SeqIO\n",
    "from Bio.Cluster import kcluster\n",
    "\n",
    "\n",
    "file = 'ur.fasta'\n",
    "ur = [record.id for record in SeqIO.parse(file, 'fasta')]\n",
    "print(ur)\n",
    "\n",
    "# clustering\n"
   ]
  }
 ],
 "metadata": {
  "kernelspec": {
   "display_name": "Python 3",
   "language": "python",
   "name": "python3"
  },
  "language_info": {
   "codemirror_mode": {
    "name": "ipython",
    "version": 3
   },
   "file_extension": ".py",
   "mimetype": "text/x-python",
   "name": "python",
   "nbconvert_exporter": "python",
   "pygments_lexer": "ipython3",
   "version": "3.7.1"
  }
 },
 "nbformat": 4,
 "nbformat_minor": 2
}
