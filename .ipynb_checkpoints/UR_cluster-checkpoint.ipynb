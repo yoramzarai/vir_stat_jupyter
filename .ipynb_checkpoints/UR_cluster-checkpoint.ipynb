{
 "cells": [
  {
   "cell_type": "markdown",
   "metadata": {},
   "source": [
    "UR Clustering - scratch pad"
   ]
  },
  {
   "cell_type": "code",
   "execution_count": null,
   "metadata": {},
   "outputs": [],
   "source": [
    "%reset -f\n",
    "\n",
    "from Bio import SeqIO\n",
    "from Bio.Cluster import kcluster\n",
    "\n",
    "\n",
    "file = 'ur.fasta'\n",
    "ur = [record.id for record in SeqIO.parse(file, 'fasta')]\n",
    "print(ur)\n",
    "\n",
    "# clustering\n"
   ]
  },
  {
   "cell_type": "code",
   "execution_count": null,
   "metadata": {},
   "outputs": [],
   "source": [
    "%%latex\n",
    "\n",
    "This is a latex cell. You can define $\\lambda_i$, for all $i\\in\\{0,\\dots,n\\}$ and\n",
    "\\[\n",
    "a = \\frac{m}{k}.    \n",
    "\\]\n",
    "and\n",
    "\\begin{equation}\n",
    "\\dot{x} = q_{i-1}(x) - q_i(x), \\quad \\text{for all } i=1,\\dots,n.\n",
    "\\label{eq:sample}\n",
    "\\end{equation}"
   ]
  },
  {
   "cell_type": "markdown",
   "metadata": {},
   "source": [
    "# General Purpose Functions"
   ]
  },
  {
   "cell_type": "code",
   "execution_count": 1,
   "metadata": {},
   "outputs": [],
   "source": [
    "from Bio import SeqIO\n",
    "def my_fasta_read(fname):\n",
    "    '''Reads fasta file. \n",
    "    The functions returns a list of the sequences, a list of the sequences IDs \n",
    "    and a list of the sequences descriptions (content of the text following >>)'''\n",
    "    seq = []\n",
    "    iD = []\n",
    "    desc = []  # description \n",
    "    for record in SeqIO.parse(fname, \"fasta\"):\n",
    "        desc.append(record.description)\n",
    "        seq.append(str(record.seq))\n",
    "        iD.append(record.id)\n",
    "    return seq, iD, desc"
   ]
  },
  {
   "cell_type": "markdown",
   "metadata": {},
   "source": [
    "## Functions for nucleotide clustering"
   ]
  },
  {
   "cell_type": "code",
   "execution_count": 2,
   "metadata": {},
   "outputs": [],
   "source": [
    "def NT_base_seq_score(two_seqs, eql=+5, neql=-4):\n",
    "    '''Returns the score of the distance between two sequences. Default scorings are nuc44-based.'''\n",
    "    return(sum([eql if s1==s2 else neql for s1,s2 in zip(two_seqs[0], two_seqs[1])]))\n",
    "\n",
    "\n",
    "import itertools as itr\n",
    "def NT_pair_seqs_score(all_seqs, score_func, eql=+5, neql=-4):\n",
    "    '''Returns a dictionary where the keys are all possible unique pairs of all_seqs, and the values are\n",
    "    the corresponding scores based on score_func'''\n",
    "    scores = {}\n",
    "    for a in itr.combinations(range(len(all_seqs)), 2):\n",
    "        #scores[all_seqs[a[0]]+'~'+all_seqs[a[1]]] = score_func((all_seqs[a[0]], all_seqs[a[1]]), eql, neql)\n",
    "        scores[(all_seqs[a[0]], all_seqs[a[1]])] = score_func((all_seqs[a[0]], all_seqs[a[1]]), eql, neql)\n",
    "    return scores\n",
    "\n",
    "\n",
    "\n"
   ]
  },
  {
   "cell_type": "code",
   "execution_count": 7,
   "metadata": {},
   "outputs": [
    {
     "name": "stdout",
     "output_type": "stream",
     "text": [
      "('AGT', 'TGT'):1\n",
      "('AGT', 'TTT'):-1\n",
      "('AGT', 'CTC'):-3\n",
      "('AGT', 'TCA'):-3\n",
      "('AGT', 'CAA'):-3\n",
      "('CTC', 'TTT'):-1\n",
      "('CTC', 'CAA'):-1\n",
      "('CTC', 'TCA'):-3\n",
      "('CTC', 'TGT'):-3\n",
      "('GAC', 'GAG'):1\n",
      "('GAC', 'CTC'):-1\n",
      "('GAC', 'CAA'):-1\n",
      "('GAC', 'AGT'):-3\n",
      "('GAC', 'TTT'):-3\n",
      "('GAC', 'TCA'):-3\n",
      "('GAC', 'TGT'):-3\n",
      "('GAG', 'CAA'):-1\n",
      "('GAG', 'AGT'):-3\n",
      "('GAG', 'CTC'):-3\n",
      "('GAG', 'TTT'):-3\n",
      "('GAG', 'TCA'):-3\n",
      "('GAG', 'TGT'):-3\n",
      "('TCA', 'TGT'):-1\n",
      "('TCA', 'CAA'):-1\n",
      "('TGT', 'CAA'):-3\n",
      "('TTT', 'TGT'):1\n",
      "('TTT', 'TCA'):-1\n",
      "('TTT', 'CAA'):-3\n",
      "file saved in  ./ur2.fasta\n"
     ]
    }
   ],
   "source": [
    "'''Testing the functions above'''\n",
    "\n",
    "from pprint import pprint\n",
    "import mysequtils as myut\n",
    "\n",
    "#A = ('CTGC', 'ATGG')\n",
    "#print('base score of {}:{} is {}'.format(A[0], A[1], NT_base_seq_score(A)))\n",
    "\n",
    "\n",
    "import itertools as itr\n",
    "#all_seqs = ('ATGC', 'ATTG', 'ACGT', 'ATGG')\n",
    "#all_scores=NT_pair_seqs_score(all_seqs, NT_base_seq_score)\n",
    "#pprint(all_scores)\n",
    "\n",
    "\n",
    "from Bio import SeqIO\n",
    "ur_file = 'ur.fasta'\n",
    "ur1_file = 'ur1.fasta'\n",
    "\n",
    "seq, iD, desc = my_fasta_read(ur1_file)\n",
    "#for i, s, d in zip(iD, seq, desc):\n",
    "#    print('id:{}, desc:{}, seq:{}'.format(i,d, s))\n",
    "\n",
    "\n",
    "\n",
    "\n",
    "\n",
    "#urs = [x.id for x in list(SeqIO.parse(ur_file, \"fasta\"))]\n",
    "urs,_,_ = my_fasta_read(ur_file)\n",
    "#print(urs)\n",
    "#urs_scores=NT_pair_seqs_score(urs, NT_base_seq_score, 1, -1)\n",
    "\n",
    "# this is the UR set of vtaxid=1090134\n",
    "myur = { 'TCA', 'TGT', 'AGT', 'TTT', 'GAG', 'CAA', 'CTC', 'GAC' }\n",
    "urs_scores=NT_pair_seqs_score(list(myur), NT_base_seq_score, 1, -1)\n",
    "#pprint(urs_scores)\n",
    "\n",
    "from operator import itemgetter\n",
    "aa = sorted(urs_scores.items(), key=itemgetter(1), reverse=True)\n",
    "#print(aa)\n",
    "bb = sorted(aa, key=lambda entry: entry[0][0])\n",
    "#bb = sorted(urs_scores.items(), key=lambda entry: entry[0][0])\n",
    "\n",
    "for a in bb:\n",
    "    print('{}:{}'.format(a[0], a[1]))\n",
    "    \n",
    "# saving ur in a fasta file\n",
    "fasta_name = './ur2.fasta'\n",
    "with open(fasta_name, 'wt') as fout:\n",
    "    print(myut.seq_create_fasta(myur,myur), file=fout)\n",
    "print('file saved in ', fasta_name)\n"
   ]
  },
  {
   "cell_type": "markdown",
   "metadata": {},
   "source": [
    "# Parse the output of starcode"
   ]
  },
  {
   "cell_type": "code",
   "execution_count": null,
   "metadata": {},
   "outputs": [],
   "source": []
  },
  {
   "cell_type": "code",
   "execution_count": 34,
   "metadata": {},
   "outputs": [
    {
     "name": "stdout",
     "output_type": "stream",
     "text": [
      "urs = ['GAC', 'GAG', 'AGT', 'CTC', 'TTT', 'TCA', 'TGT', 'CAA']\n",
      "Found 2 clusters:\n",
      "['CAA', 'CTC', 'GAC', 'GAG', 'TCA']\n",
      "['AGT', 'TGT', 'TTT']\n"
     ]
    }
   ],
   "source": [
    "import csv\n",
    "\n",
    "infile = 'ur2.fasta'\n",
    "file = 'ur_clust'  # startcode output\n",
    "\n",
    "ur_seq, _, _ = my_fasta_read(infile)\n",
    "\n",
    "with open(file, 'rt') as fin:\n",
    "    cin = csv.reader(fin, delimiter=' ')\n",
    "    clusts = [r for r in cin]\n",
    "\n",
    "print('urs = {}'.format(ur_seq))\n",
    "print('Found {} clusters:'.format(len(clusts)))\n",
    "for x in clusts:\n",
    "    info = x[0].split('\\t')\n",
    "    #print('centroid={}, members={}'.format(info[0], info[-1]))\n",
    "    print(info[-1].split(','))\n",
    "\n"
   ]
  }
 ],
 "metadata": {
  "kernelspec": {
   "display_name": "Python 3",
   "language": "python",
   "name": "python3"
  },
  "language_info": {
   "codemirror_mode": {
    "name": "ipython",
    "version": 3
   },
   "file_extension": ".py",
   "mimetype": "text/x-python",
   "name": "python",
   "nbconvert_exporter": "python",
   "pygments_lexer": "ipython3",
   "version": "3.7.1"
  }
 },
 "nbformat": 4,
 "nbformat_minor": 2
}
